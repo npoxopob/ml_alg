{
  "nbformat": 4,
  "nbformat_minor": 0,
  "metadata": {
    "colab": {
      "name": "Урок 1. Алгоритм линейной регрессии. Градиентный спуск.ipynb",
      "provenance": [],
      "collapsed_sections": []
    },
    "kernelspec": {
      "name": "python3",
      "display_name": "Python 3"
    },
    "language_info": {
      "name": "python"
    }
  },
  "cells": [
    {
      "cell_type": "code",
      "metadata": {
        "id": "2-qMnqL9mnnp"
      },
      "source": [
        "import numpy as np\n",
        "import matplotlib as plt"
      ],
      "execution_count": null,
      "outputs": []
    },
    {
      "cell_type": "code",
      "metadata": {
        "colab": {
          "base_uri": "https://localhost:8080/"
        },
        "id": "Imi9GCmOA6MR",
        "outputId": "c7f89333-5cac-464d-d6c0-eb117229795a"
      },
      "source": [
        "y = [45, 55, 50, 59, 65, 35, 75, 80, 50, 60]\n",
        "X = np.array([[1, 1, 1, 1, 1, 1, 1, 1, 1, 1],\n",
        "               [1, 1, 2, 1, 3, 0, 5, 10, 1, 2]])\n",
        "\n",
        "X.shape"
      ],
      "execution_count": null,
      "outputs": [
        {
          "output_type": "execute_result",
          "data": {
            "text/plain": [
              "(2, 10)"
            ]
          },
          "metadata": {
            "tags": []
          },
          "execution_count": 88
        }
      ]
    },
    {
      "cell_type": "markdown",
      "metadata": {
        "id": "b6WVrKyAzJFW"
      },
      "source": [
        "Отдельный класс под метрики, чтобы можно было использовать в любых моделях"
      ]
    },
    {
      "cell_type": "code",
      "metadata": {
        "id": "TEKba7uGqhYx"
      },
      "source": [
        "class Metrics:\n",
        "\n",
        "  def _mse(self, y, y_pred):\n",
        "    return np.mean((y - y_pred)**2)\n"
      ],
      "execution_count": null,
      "outputs": []
    },
    {
      "cell_type": "markdown",
      "metadata": {
        "id": "qcVUoD86zVXi"
      },
      "source": [
        "Класс градиентного спуска"
      ]
    },
    {
      "cell_type": "code",
      "metadata": {
        "id": "Fcp7BMRhBXgx"
      },
      "source": [
        "class GradientDescent:\n",
        "\n",
        "  metrics = {'mse': Metrics()._mse}\n",
        "\n",
        "  def __init__(self, X, y, iter_count=1500, alpha=1e-4, result_per_count=100, \n",
        "               metric='mse', listing=True):\n",
        "\n",
        "    assert metric in self.metrics, f\"Metric {metric} is not allowed\"\n",
        "\n",
        "    # Weights vector \n",
        "    self.w = np.zeros(X.shape[0])\n",
        "    \n",
        "    # Total iterations\n",
        "    self.iter_count = iter_count\n",
        "\n",
        "    # Alpha coeff\n",
        "    self.alpha = alpha\n",
        "\n",
        "    self.x = X.copy()\n",
        "    self.y = y.copy()\n",
        "  \n",
        "    self.metric = self.metrics[metric]\n",
        "\n",
        "    self.result_per_count = result_per_count\n",
        "\n",
        "    self.listing = listing\n",
        "\n",
        "  def fit(self):\n",
        "    n = self.x.shape[1]\n",
        "\n",
        "    for i in range(self.iter_count):\n",
        "      y_pred = np.dot(self.w, self.x)\n",
        "      err = self.metric(self.y, y_pred)\n",
        "\n",
        "      for ii in range(self.w.shape[0]):\n",
        "        self.w[ii] -= self.alpha * (1/n * 2 * np.sum(self.x[ii] * (y_pred - y)))\n",
        "\n",
        "      if self.listing and i % self.result_per_count == 0:\n",
        "        print(i , self.w, err)\n"
      ],
      "execution_count": null,
      "outputs": []
    },
    {
      "cell_type": "code",
      "metadata": {
        "id": "fNPSs9I0ve8B"
      },
      "source": [
        "gs = GradientDescent(X, y, alpha=1e-2, iter_count=800)"
      ],
      "execution_count": null,
      "outputs": []
    },
    {
      "cell_type": "code",
      "metadata": {
        "colab": {
          "base_uri": "https://localhost:8080/"
        },
        "id": "NHKKDjiVv35Y",
        "outputId": "e904d84c-946c-40e5-fffe-c7f380debe1a"
      },
      "source": [
        "gs.fit()"
      ],
      "execution_count": null,
      "outputs": [
        {
          "output_type": "stream",
          "text": [
            "0 [1.148 3.598] 3460.6\n",
            "100 [31.58229161  6.80057904] 180.39114127158768\n",
            "200 [41.7294493   4.92682874] 62.560247029906215\n",
            "300 [45.29732342  4.2679935 ] 47.99260030228274\n",
            "400 [46.55183489  4.03633836] 46.19157577007843\n",
            "500 [46.99293763  3.95488536] 45.96891184732892\n",
            "600 [47.14803515  3.92624542] 45.94138350354035\n",
            "700 [47.20256948  3.91617524] 45.93798012457181\n"
          ],
          "name": "stdout"
        }
      ]
    },
    {
      "cell_type": "code",
      "metadata": {
        "id": "tDPt3Bcwx-H1"
      },
      "source": [
        ""
      ],
      "execution_count": null,
      "outputs": []
    }
  ]
}