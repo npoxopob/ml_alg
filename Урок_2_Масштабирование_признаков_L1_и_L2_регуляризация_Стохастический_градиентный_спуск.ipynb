{
  "nbformat": 4,
  "nbformat_minor": 0,
  "metadata": {
    "colab": {
      "name": "Урок 2. Масштабирование признаков. L1- и L2-регуляризация. Стохастический градиентный спуск.ipynb",
      "provenance": [],
      "collapsed_sections": []
    },
    "kernelspec": {
      "name": "python3",
      "display_name": "Python 3"
    },
    "language_info": {
      "name": "python"
    }
  },
  "cells": [
    {
      "cell_type": "markdown",
      "metadata": {
        "id": "OtBey3CJMID-"
      },
      "source": [
        "1. Сгенерировать датасет при помощи sklearn.datasets.make_regression и обучить линейную модель при помощи градиентного и стохастического градиентного спуска. Нанести среднеквадратичную ошибку для обоих методов на один график, сделать выводы о разнице скорости сходимости каждого из методов."
      ]
    },
    {
      "cell_type": "code",
      "metadata": {
        "id": "S7U2uxX3MQuE"
      },
      "source": [
        "from sklearn.datasets import make_regression"
      ],
      "execution_count": 2,
      "outputs": []
    },
    {
      "cell_type": "code",
      "metadata": {
        "id": "8_c4GYVXLbdL"
      },
      "source": [
        "# generate regression dataset\n",
        "X, y = make_regression(n_samples=100, n_features=4, noise=0.5)"
      ],
      "execution_count": 3,
      "outputs": []
    },
    {
      "cell_type": "code",
      "metadata": {
        "id": "GSFuzjWUMk0J"
      },
      "source": [
        "class Metrics:\n",
        "\n",
        "  def _mse(self, y, y_pred):\n",
        "    return np.mean((y - y_pred)**2)\n"
      ],
      "execution_count": 4,
      "outputs": []
    },
    {
      "cell_type": "code",
      "metadata": {
        "id": "l5bDPAX4My76"
      },
      "source": [
        "class GradientDescent:\n",
        "\n",
        "  metrics = {'mse': Metrics()._mse}\n",
        "\n",
        "  def __init__(self, X, y, iter_count=1500, alpha=1e-4, result_per_count=100, \n",
        "               metric='mse', listing=True):\n",
        "\n",
        "    assert metric in self.metrics, f\"Metric {metric} is not allowed\"\n",
        "\n",
        "    # Weights vector \n",
        "    self.w = np.random.randn(X.shape[0])\n",
        "    \n",
        "    # Total iterations\n",
        "    self.iter_count = iter_count\n",
        "\n",
        "    # Alpha coeff\n",
        "    self.alpha = alpha\n",
        "\n",
        "    self.x = X.copy()\n",
        "    self.y = y.copy()\n",
        "  \n",
        "    self.metric = self.metrics[metric]\n",
        "\n",
        "    self.result_per_count = result_per_count\n",
        "\n",
        "    self.listing = listing\n",
        "\n",
        "  def fit(self):\n",
        "    n = self.x.shape[1]\n",
        "\n",
        "    for i in range(self.iter_count):\n",
        "      y_pred = np.dot(self.w, self.x)\n",
        "      err = self.metric(self.y, y_pred)\n",
        "\n",
        "      self.w -= self.alpha * (1/n * 2 * np.dot((y_pred - y), self.x.T))\n",
        "\n",
        "      if self.listing and i % self.result_per_count == 0:\n",
        "        print(i , self.w, err)\n"
      ],
      "execution_count": 6,
      "outputs": []
    },
    {
      "cell_type": "code",
      "metadata": {
        "id": "yhVOrwePNQJr"
      },
      "source": [
        "class StochasticGradientDescent:\n",
        "\n",
        "  metrics = {'mse': Metrics()._mse}\n",
        "\n",
        "  def __init__(self, X, y, iter_count=1500, qty_in_batch=1, alpha=1e-4, result_per_count=100, \n",
        "               metric='mse', listing=True):\n",
        "\n",
        "    assert metric in self.metrics, f\"Metric {metric} is not allowed\"\n",
        "\n",
        "    # Weights vector \n",
        "    self.w = np.random.randn(X.shape[0])\n",
        "    \n",
        "    # Total iterations\n",
        "    self.iter_count = iter_count\n",
        "\n",
        "    # Alpha coeff\n",
        "    self.alpha = alpha\n",
        "\n",
        "    self.qty_in_batch = qty_in_batch\n",
        "    self.n_batch = n // qty_in_batch\n",
        "\n",
        "    self.x = X.copy()\n",
        "    self.y = y.copy()\n",
        "  \n",
        "    self.metric = self.metrics[metric]\n",
        "\n",
        "    self.result_per_count = result_per_count\n",
        "\n",
        "    self.listing = listing\n",
        "\n",
        "  def fit(self):\n",
        "    n = self.x.shape[1]\n",
        "    \n",
        "\n",
        "    for i in range(self.iter_count):\n",
        "      y_pred = np.dot(self.w, self.x)\n",
        "      err = self.metric(self.y, y_pred)\n",
        "\n",
        "      self.w -= self.alpha * (1/n * 2 * np.dot((y_pred - y), self.x.T))\n",
        "\n",
        "      if self.listing and i % self.result_per_count == 0:\n",
        "        print(i , self.w, err)"
      ],
      "execution_count": null,
      "outputs": []
    }
  ]
}