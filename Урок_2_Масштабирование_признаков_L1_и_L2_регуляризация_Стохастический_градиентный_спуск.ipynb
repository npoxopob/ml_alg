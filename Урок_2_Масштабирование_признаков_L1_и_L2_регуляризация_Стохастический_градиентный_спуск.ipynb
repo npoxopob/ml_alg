{
  "nbformat": 4,
  "nbformat_minor": 0,
  "metadata": {
    "colab": {
      "name": "Урок 2. Масштабирование признаков. L1- и L2-регуляризация. Стохастический градиентный спуск.ipynb",
      "provenance": [],
      "collapsed_sections": []
    },
    "kernelspec": {
      "name": "python3",
      "display_name": "Python 3"
    },
    "language_info": {
      "name": "python"
    }
  },
  "cells": [
    {
      "cell_type": "markdown",
      "metadata": {
        "id": "OtBey3CJMID-"
      },
      "source": [
        "1. Сгенерировать датасет при помощи sklearn.datasets.make_regression и обучить линейную модель при помощи градиентного и стохастического градиентного спуска. Нанести среднеквадратичную ошибку для обоих методов на один график, сделать выводы о разнице скорости сходимости каждого из методов."
      ]
    },
    {
      "cell_type": "code",
      "metadata": {
        "id": "S7U2uxX3MQuE"
      },
      "source": [
        "import numpy as np\n",
        "from sklearn.datasets import make_regression\n",
        "import matplotlib.pyplot as plt"
      ],
      "execution_count": 157,
      "outputs": []
    },
    {
      "cell_type": "code",
      "metadata": {
        "colab": {
          "base_uri": "https://localhost:8080/"
        },
        "id": "8_c4GYVXLbdL",
        "outputId": "25495291-362a-40b1-ff50-5243e34594b1"
      },
      "source": [
        "# generate regression dataset\n",
        "X, y = make_regression(random_state=0)\n",
        "y"
      ],
      "execution_count": 158,
      "outputs": [
        {
          "output_type": "execute_result",
          "data": {
            "text/plain": [
              "array([ 5.89981499e+01, -1.51472301e+02,  3.92774675e+00,  1.30275835e+02,\n",
              "        2.04728060e+00,  1.01587138e+02, -1.81389163e+02, -1.99827729e+02,\n",
              "        2.36839440e+02,  3.00206479e+02,  2.71801441e+01,  2.76530071e+01,\n",
              "        4.44317863e+01, -2.97416896e+01, -1.65646056e+02,  1.06302533e+02,\n",
              "       -2.38325493e+02, -1.27217684e+02, -1.49696870e+02,  3.91961166e+01,\n",
              "       -3.38549645e+00,  1.44280015e+02, -6.77946699e+01, -8.78067763e+01,\n",
              "        2.59043702e+02, -1.98514664e+02,  1.24378523e+01, -7.03056179e+01,\n",
              "        1.53948181e+02, -1.12712395e+02,  6.01916320e+01, -1.02364589e+02,\n",
              "        8.02760399e+01, -2.54989466e+02, -2.65026472e+01,  8.45554208e+01,\n",
              "       -7.86065692e+01,  6.59383309e+00, -8.40267190e+01, -1.88440481e+02,\n",
              "       -1.05322661e+02, -1.48609151e+02,  3.19325058e+02, -1.03811985e+01,\n",
              "       -1.66106829e+02, -1.92127360e+00, -1.66459184e+02,  2.22568255e+02,\n",
              "       -1.90733117e+02, -4.47361111e+00, -1.40862199e+02, -1.04998874e+02,\n",
              "       -1.55406951e+02,  8.84001312e+01,  1.10668159e+01,  2.17822668e+02,\n",
              "       -2.30191323e+02, -9.53599988e+01,  1.43696372e+02, -1.51545011e+01,\n",
              "       -6.01995736e+01, -7.87414903e+01,  5.49872561e+01, -9.60694579e+01,\n",
              "        1.02073292e+02, -1.82433407e+02,  1.43967921e+01,  2.57273352e+01,\n",
              "       -3.11997026e+01, -6.92314397e+01, -1.55678062e+02, -2.42752747e+01,\n",
              "       -1.92480844e+01,  2.01408422e+02, -1.61883070e+02,  2.53833013e-01,\n",
              "        1.66969921e+02,  7.10931137e+01, -4.85818195e+01, -3.12184318e+01,\n",
              "       -2.73168840e+02,  3.00308517e+00, -1.33474939e+01,  1.21349806e+02,\n",
              "       -7.92412566e+01,  4.61451813e+01, -2.39554177e+02, -4.81780542e+00,\n",
              "        4.82434320e+01,  5.70661767e+01,  5.59382489e+01,  1.77274799e+02,\n",
              "       -5.81475360e+01, -1.15194499e+02,  1.17344962e+02,  5.81688314e+01,\n",
              "       -7.85896400e+01,  1.59876618e+01, -2.50470392e+02, -2.19074129e+02])"
            ]
          },
          "metadata": {
            "tags": []
          },
          "execution_count": 158
        }
      ]
    },
    {
      "cell_type": "code",
      "metadata": {
        "id": "GSFuzjWUMk0J"
      },
      "source": [
        "class Metrics:\n",
        "\n",
        "  def _mse(self, y, y_pred):\n",
        "    return np.mean((y - y_pred)**2)\n"
      ],
      "execution_count": 159,
      "outputs": []
    },
    {
      "cell_type": "code",
      "metadata": {
        "id": "l5bDPAX4My76"
      },
      "source": [
        "class GradientDescent:\n",
        "\n",
        "  metrics = {'mse': Metrics()._mse}\n",
        "\n",
        "  def __init__(self, X, y, iter_count=1500, alpha=1e-4, result_per_count=100, \n",
        "               metric='mse', listing=True):\n",
        "\n",
        "    assert metric in self.metrics, f\"Metric {metric} is not allowed\"\n",
        "\n",
        "    self.x = X.copy()\n",
        "    self.y = y.copy()\n",
        "\n",
        "    # Weights vector \n",
        "    self.w = np.random.randn(self.x.shape[0])\n",
        "    \n",
        "    # Total iterations\n",
        "    self.iter_count = iter_count\n",
        "\n",
        "    # Alpha coeff\n",
        "    self.alpha = alpha\n",
        "  \n",
        "    self.metric = self.metrics[metric]\n",
        "\n",
        "    self.result_per_count = result_per_count\n",
        "\n",
        "    self.listing = listing\n",
        "\n",
        "    self.err = []\n",
        "\n",
        "  def fit(self):\n",
        "    n = self.x.shape[1]\n",
        "\n",
        "    for i in range(self.iter_count):\n",
        "      y_pred = np.dot(self.w, self.x)\n",
        "      self.err.append(self.metric(self.y, y_pred))\n",
        "\n",
        "      self.w -= self.alpha * (1/n * 2 * np.dot((y_pred - y), self.x.T))\n",
        "\n",
        "    return self.err\n"
      ],
      "execution_count": 160,
      "outputs": []
    },
    {
      "cell_type": "code",
      "metadata": {
        "id": "yhVOrwePNQJr"
      },
      "source": [
        "class StochasticGradientDescent:\n",
        "\n",
        "  metrics = {'mse': Metrics()._mse}\n",
        "\n",
        "  def __init__(self, X, y, iter_count=1500, qty_in_batch=1, alpha=1e-4, \n",
        "               metric='mse', listing=True):\n",
        "\n",
        "    assert metric in self.metrics, f\"Metric {metric} is not allowed\"\n",
        "\n",
        "    self.x = X.copy()\n",
        "    self.y = y.copy()\n",
        "\n",
        "    # Weights vector \n",
        "    self.w = np.random.randn(self.x.shape[0])\n",
        "    \n",
        "    # Total iterations\n",
        "    self.iter_count = iter_count\n",
        "\n",
        "    # Alpha coeff\n",
        "    self.alpha = alpha\n",
        "\n",
        "    self.n = self.x.shape[1]\n",
        "    self.qty_in_batch = qty_in_batch\n",
        "  \n",
        "    self.metric = self.metrics[metric]\n",
        "\n",
        "    self.listing = listing\n",
        "\n",
        "    self.err = []\n",
        "\n",
        "  def fit(self):\n",
        "\n",
        "    n_batch = self.n // self.qty_in_batch\n",
        "\n",
        "    if self.n % self.qty_in_batch != 0:\n",
        "      n_batch += 1\n",
        "    for i in range(self.iter_count + 1 ):\n",
        "      for b in range(n_batch):\n",
        "        _start = self.qty_in_batch * b\n",
        "        _end = self.qty_in_batch * (b + 1)\n",
        "\n",
        "      x_tmp = self.x[:, _start: _end] \n",
        "      y_tmp = self.y[_start : _end]\n",
        "\n",
        "      y_pred_tmp = np.dot(self.w, x_tmp)\n",
        "      self.err.append(self.metric(y_tmp, y_pred_tmp))\n",
        "\n",
        "      self.w -= (self.alpha * (1/self.n * 2 * np.dot((y_pred_tmp - y_tmp), x_tmp.T)))\n",
        "\n",
        "    # if self.listing and i % (self.iter_count / 10) == 0:\n",
        "      # print(i , self.w, err)\n",
        "\n",
        "    return self.err"
      ],
      "execution_count": 161,
      "outputs": []
    },
    {
      "cell_type": "code",
      "metadata": {
        "id": "z0w_a1RFYEEN"
      },
      "source": [
        "gs = GradientDescent(X, y, alpha=1e-2, iter_count=800)\n",
        "e_gs = gs.fit()"
      ],
      "execution_count": 162,
      "outputs": []
    },
    {
      "cell_type": "code",
      "metadata": {
        "id": "wU8BhxA-YPGR"
      },
      "source": [
        "sgs = StochasticGradientDescent(X, y, iter_count=500, qty_in_batch=1, alpha=1e-2)\n",
        "e_sgs = sgs.fit()"
      ],
      "execution_count": 163,
      "outputs": []
    },
    {
      "cell_type": "code",
      "metadata": {
        "colab": {
          "base_uri": "https://localhost:8080/",
          "height": 312
        },
        "id": "CEs-BQdgYlYQ",
        "outputId": "c1574d71-0235-4a22-d9b1-153084e86027"
      },
      "source": [
        "plt.plot(range(len(e_gs)), e_gs)\n",
        "plt.title('MSE')\n",
        "plt.xlabel('Iteration number')\n",
        "plt.ylabel('MSE')"
      ],
      "execution_count": 165,
      "outputs": [
        {
          "output_type": "execute_result",
          "data": {
            "text/plain": [
              "Text(0, 0.5, 'MSE')"
            ]
          },
          "metadata": {
            "tags": []
          },
          "execution_count": 165
        },
        {
          "output_type": "display_data",
          "data": {
            "image/png": "[encoded data removed]",
            "text/plain": [
              "<Figure size 432x288 with 1 Axes>"
            ]
          },
          "metadata": {
            "tags": [],
            "needs_background": "light"
          }
        }
      ]
    },
    {
      "cell_type": "code",
      "metadata": {
        "colab": {
          "base_uri": "https://localhost:8080/",
          "height": 312
        },
        "id": "QMwQP884gmVW",
        "outputId": "1ba6638a-acc0-42c5-bc54-5e5284ff5f5b"
      },
      "source": [
        "plt.plot(range(len(e_sgs)), e_sgs)\n",
        "plt.title('MSE')\n",
        "plt.xlabel('Iteration number')\n",
        "plt.ylabel('MSE')"
      ],
      "execution_count": 166,
      "outputs": [
        {
          "output_type": "execute_result",
          "data": {
            "text/plain": [
              "Text(0, 0.5, 'MSE')"
            ]
          },
          "metadata": {
            "tags": []
          },
          "execution_count": 166
        },
        {
          "output_type": "display_data",
          "data": {
            "image/png": "[encoded data removed]",
            "text/plain": [
              "<Figure size 432x288 with 1 Axes>"
            ]
          },
          "metadata": {
            "tags": [],
            "needs_background": "light"
          }
        }
      ]
    },
    {
      "cell_type": "markdown",
      "metadata": {
        "id": "6U-aRuvUhHs_"
      },
      "source": [
        "### По графику видно, что стахостический градиентный спуск сходится быстрее обычного градиентного спуска"
      ]
    },
    {
      "cell_type": "markdown",
      "metadata": {
        "id": "rdgtbaKsh1uC"
      },
      "source": [
        "2. Модифицировать решение первого задания путем добавления 𝐿2 -регуляризации и сравнить результаты."
      ]
    },
    {
      "cell_type": "code",
      "metadata": {
        "id": "zlqFY1qKh2Ku"
      },
      "source": [
        "class GradientDescentL2:\n",
        "\n",
        "  metrics = {'mse': Metrics()._mse}\n",
        "\n",
        "  def __init__(self, X, y, iter_count=1500, alpha=1e-4, result_per_count=100, \n",
        "               _lambda=1e-8, metric='mse', listing=True):\n",
        "\n",
        "    assert metric in self.metrics, f\"Metric {metric} is not allowed\"\n",
        "\n",
        "    self.x = X.copy()\n",
        "    self.y = y.copy()\n",
        "\n",
        "    # Weights vector \n",
        "    self.w = np.random.randn(self.x.shape[0])\n",
        "    \n",
        "    # Total iterations\n",
        "    self.iter_count = iter_count\n",
        "\n",
        "    # Alpha coeff\n",
        "    self.alpha = alpha\n",
        "  \n",
        "    self.metric = self.metrics[metric]\n",
        "\n",
        "    self.result_per_count = result_per_count\n",
        "\n",
        "    self.listing = listing\n",
        "\n",
        "    self.err = []\n",
        "\n",
        "    self._lambda = _lambda\n",
        "\n",
        "  def fit(self):\n",
        "    n = self.x.shape[1]\n",
        "\n",
        "    for i in range(self.iter_count):\n",
        "      y_pred = np.dot(self.w, self.x)\n",
        "      self.err.append(self.metric(self.y, y_pred))\n",
        "\n",
        "      self.w -= self.alpha * (1/n * 2 * np.dot((y_pred - y), self.x.T) + self._lambda * self.w )\n",
        "\n",
        "    return self.err"
      ],
      "execution_count": 172,
      "outputs": []
    },
    {
      "cell_type": "code",
      "metadata": {
        "id": "rQdISH0RiGH-"
      },
      "source": [
        "class StochasticGradientDescentL2:\n",
        "\n",
        "  metrics = {'mse': Metrics()._mse}\n",
        "\n",
        "  def __init__(self, X, y, iter_count=1500, qty_in_batch=1, alpha=1e-4, \n",
        "               _lambda=1e-8, metric='mse', listing=True):\n",
        "\n",
        "    assert metric in self.metrics, f\"Metric {metric} is not allowed\"\n",
        "\n",
        "    self.x = X.copy()\n",
        "    self.y = y.copy()\n",
        "\n",
        "    # Weights vector \n",
        "    self.w = np.random.randn(self.x.shape[0])\n",
        "    \n",
        "    # Total iterations\n",
        "    self.iter_count = iter_count\n",
        "\n",
        "    # Alpha coeff\n",
        "    self.alpha = alpha\n",
        "\n",
        "    self.n = self.x.shape[1]\n",
        "    self.qty_in_batch = qty_in_batch\n",
        "  \n",
        "    self.metric = self.metrics[metric]\n",
        "\n",
        "    self.listing = listing\n",
        "\n",
        "    self.err = []\n",
        "\n",
        "    self._lambda = _lambda\n",
        "\n",
        "  def fit(self):\n",
        "\n",
        "    n_batch = self.n // self.qty_in_batch\n",
        "\n",
        "    if self.n % self.qty_in_batch != 0:\n",
        "      n_batch += 1\n",
        "    for i in range(self.iter_count + 1 ):\n",
        "      for b in range(n_batch):\n",
        "        _start = self.qty_in_batch * b\n",
        "        _end = self.qty_in_batch * (b + 1)\n",
        "\n",
        "      x_tmp = self.x[:, _start: _end] \n",
        "      y_tmp = self.y[_start : _end]\n",
        "\n",
        "      y_pred_tmp = np.dot(self.w, x_tmp)\n",
        "      self.err.append(self.metric(y_tmp, y_pred_tmp))\n",
        "\n",
        "      self.w -= (self.alpha * (1/self.n * 2 * np.dot((y_pred_tmp - y_tmp), x_tmp.T) + self._lambda * self.w))\n",
        "\n",
        "    # if self.listing and i % (self.iter_count / 10) == 0:\n",
        "      # print(i , self.w, err)\n",
        "\n",
        "    return self.err"
      ],
      "execution_count": 176,
      "outputs": []
    },
    {
      "cell_type": "code",
      "metadata": {
        "id": "KZObjFn7iuh8"
      },
      "source": [
        "gs2 = GradientDescentL2(X, y, alpha=1e-2, iter_count=500)\n",
        "e_gs2 = gs2.fit()"
      ],
      "execution_count": 203,
      "outputs": []
    },
    {
      "cell_type": "code",
      "metadata": {
        "id": "YmRJOX3yjIYS"
      },
      "source": [
        "sgs2 = StochasticGradientDescentL2(X, y, iter_count=500, qty_in_batch=1, alpha=1e-2)\n",
        "e_sgs2 = sgs2.fit()"
      ],
      "execution_count": 204,
      "outputs": []
    },
    {
      "cell_type": "code",
      "metadata": {
        "colab": {
          "base_uri": "https://localhost:8080/",
          "height": 312
        },
        "id": "t4y6Vxk5jb0l",
        "outputId": "8d4db64b-fe1c-4f16-fced-26167d8bc54e"
      },
      "source": [
        "plt.plot(range(len(e_gs2)), e_gs2)\n",
        "plt.title('MSE')\n",
        "plt.xlabel('Iteration number')\n",
        "plt.ylabel('MSE')"
      ],
      "execution_count": 205,
      "outputs": [
        {
          "output_type": "execute_result",
          "data": {
            "text/plain": [
              "Text(0, 0.5, 'MSE')"
            ]
          },
          "metadata": {
            "tags": []
          },
          "execution_count": 205
        },
        {
          "output_type": "display_data",
          "data": {
            "image/png": "[encoded data removed]",
            "text/plain": [
              "<Figure size 432x288 with 1 Axes>"
            ]
          },
          "metadata": {
            "tags": [],
            "needs_background": "light"
          }
        }
      ]
    },
    {
      "cell_type": "code",
      "metadata": {
        "colab": {
          "base_uri": "https://localhost:8080/",
          "height": 312
        },
        "id": "Cy4EyFD6jigj",
        "outputId": "c23c3f90-4d61-466c-f016-a070521e9071"
      },
      "source": [
        "plt.plot(range(len(e_sgs2)), e_sgs2)\n",
        "plt.title('MSE')\n",
        "plt.xlabel('Iteration number')\n",
        "plt.ylabel('MSE')"
      ],
      "execution_count": 206,
      "outputs": [
        {
          "output_type": "execute_result",
          "data": {
            "text/plain": [
              "Text(0, 0.5, 'MSE')"
            ]
          },
          "metadata": {
            "tags": []
          },
          "execution_count": 206
        },
        {
          "output_type": "display_data",
          "data": {
            "image/png": "[encoded data removed]",
            "text/plain": [
              "<Figure size 432x288 with 1 Axes>"
            ]
          },
          "metadata": {
            "tags": [],
            "needs_background": "light"
          }
        }
      ]
    },
    {
      "cell_type": "markdown",
      "metadata": {
        "id": "ehApwCmGkhbb"
      },
      "source": [
        "На графике разница не особо заметна"
      ]
    },
    {
      "cell_type": "code",
      "metadata": {
        "id": "gLmSsrEUkkBM"
      },
      "source": [
        ""
      ],
      "execution_count": null,
      "outputs": []
    }
  ]
}